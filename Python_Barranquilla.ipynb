{
 "cells": [
  {
   "cell_type": "markdown",
   "id": "58aaf41c",
   "metadata": {},
   "source": [
    "# Importo los paquetes"
   ]
  },
  {
   "cell_type": "code",
   "execution_count": null,
   "id": "e92f5684",
   "metadata": {},
   "outputs": [],
   "source": [
    "import folium\n",
    "import geopandas\n",
    "import geocoder\n",
    "import re\n",
    "import matplotlib.pyplot as plt\n",
    "from branca.element import Figure"
   ]
  },
  {
   "cell_type": "markdown",
   "id": "526eb9bc",
   "metadata": {},
   "source": [
    "# Archivos a utilizar"
   ]
  },
  {
   "cell_type": "code",
   "execution_count": null,
   "id": "08e36a5d",
   "metadata": {},
   "outputs": [],
   "source": [
    "file_accidentalidad=\"Accidentalidad_en_Barranquilla.csv\"\n",
    "file_semaforizacion=\"semaforizacion.csv\"\n",
    "file_fotodeteccion=\"Fotodetecci_n_en_Barranquilla.csv\""
   ]
  },
  {
   "cell_type": "markdown",
   "id": "e204ab6b",
   "metadata": {},
   "source": [
    "# Dataframes"
   ]
  },
  {
   "cell_type": "code",
   "execution_count": null,
   "id": "268c45a8",
   "metadata": {},
   "outputs": [],
   "source": [
    "df_fotodeteccion=geopandas.read_file(file_fotodeteccion)\n",
    "df_semaforizacion = geopandas.read_file(file_semaforizacion)\n",
    "df_accidentalidad= geopandas.read_file(file_accidentalidad)"
   ]
  },
  {
   "cell_type": "markdown",
   "id": "a9962de3",
   "metadata": {},
   "source": [
    "# Función (Extrae la hora de cada horario)"
   ]
  },
  {
   "cell_type": "code",
   "execution_count": null,
   "id": "affa643c",
   "metadata": {},
   "outputs": [],
   "source": [
    "def funcion(argumento):\n",
    "    if re.search(\".PM\",argumento)!= None:\n",
    "        cambio=12+int(argumento[:2])\n",
    "    else:\n",
    "        cambio=int(argumento[:2])\n",
    "    return cambio"
   ]
  },
  {
   "cell_type": "markdown",
   "id": "bd9fc981",
   "metadata": {},
   "source": [
    "# Parametros variables"
   ]
  },
  {
   "cell_type": "code",
   "execution_count": null,
   "id": "516be373",
   "metadata": {},
   "outputs": [],
   "source": [
    "inicio_mes=35040\n",
    "final_mes=35307\n",
    "mes=\"Abril\"\n",
    "anio=\"2021\""
   ]
  },
  {
   "cell_type": "markdown",
   "id": "b3b93b26",
   "metadata": {},
   "source": [
    "# Diccionario {Hora:Cantidad de accidentes}"
   ]
  },
  {
   "cell_type": "code",
   "execution_count": null,
   "id": "4bb95538",
   "metadata": {},
   "outputs": [],
   "source": [
    "horarios=dict(df_accidentalidad[\"HORA_ACCIDENTE\"].iloc[inicio_mes:final_mes].apply(lambda x: funcion(x)).value_counts(sort=False))"
   ]
  },
  {
   "cell_type": "markdown",
   "id": "5d680251",
   "metadata": {},
   "source": [
    "# Lo convierto en listas separadas"
   ]
  },
  {
   "cell_type": "code",
   "execution_count": null,
   "id": "08248575",
   "metadata": {},
   "outputs": [],
   "source": [
    "lista_hora=[]\n",
    "lista_accidentes=[]\n",
    "for i,j in horarios.items():\n",
    "    lista_hora.append(i)\n",
    "    lista_accidentes.append(j)"
   ]
  },
  {
   "cell_type": "markdown",
   "id": "e6ba2d97",
   "metadata": {},
   "source": [
    "# Distribución accidentes por Hora"
   ]
  },
  {
   "cell_type": "code",
   "execution_count": null,
   "id": "2b7d6520",
   "metadata": {},
   "outputs": [],
   "source": [
    "fig = plt.figure( figsize=[10,5])\n",
    "ax = fig.add_axes([0,0,1,1])\n",
    "\n",
    "\n",
    "\n",
    "ax.bar(lista_hora, lista_accidentes)\n",
    "\n",
    "ax.set_xlabel('Hora',fontsize=15,color=\"red\")\n",
    "ax.set_title(\"Distribución Accidentes por hora (\"+mes+\")\",fontsize=30,color=\"red\")\n",
    "plt.yticks(ticks=[*range(0,40,5)], labels=[ str(i) for i in [*range(0,40,5)]],fontsize=25)\n",
    "plt.xticks(ticks=[*range(0,25)], labels=[ str(i) for i in [*range(0,25)]],fontsize=20)\n",
    "plt.savefig(\"Numero_accidentes_\"+mes+\"_\"+anio+\".png\")\n",
    "plt.show()"
   ]
  },
  {
   "cell_type": "markdown",
   "id": "fa661b83",
   "metadata": {},
   "source": [
    "# Nueva Columna con dirección de accidentes escrita adecuadamente"
   ]
  },
  {
   "cell_type": "code",
   "execution_count": null,
   "id": "9cff8994",
   "metadata": {},
   "outputs": [],
   "source": [
    "df_accidentalidad[\"SITIO_EXACTO_ACCIDENTE_modificada\"]=df_accidentalidad[\"SITIO_EXACTO_ACCIDENTE\"].str.replace('CL','CALLE')\n",
    "df_accidentalidad[\"SITIO_EXACTO_ACCIDENTE_modificada\"]=df_accidentalidad[\"SITIO_EXACTO_ACCIDENTE_modificada\"].str.replace(\"CALLELE\",\"CALLE\")\n",
    "df_accidentalidad[\"SITIO_EXACTO_ACCIDENTE_modificada\"]=df_accidentalidad[\"SITIO_EXACTO_ACCIDENTE_modificada\"].str.replace(\"CR\",\"CARRERA\")\n",
    "df_accidentalidad[\"SITIO_EXACTO_ACCIDENTE_modificada\"]=df_accidentalidad[\"SITIO_EXACTO_ACCIDENTE_modificada\"].str.replace(\"CARRERAA\",\"CARRERA\")\n"
   ]
  },
  {
   "cell_type": "markdown",
   "id": "068ebd1c",
   "metadata": {},
   "source": [
    "# Lista con Latitud y Longitud de la ubicación de cada accidente"
   ]
  },
  {
   "cell_type": "code",
   "execution_count": null,
   "id": "7038a4db",
   "metadata": {},
   "outputs": [],
   "source": [
    "lista_coordenadas_accidentes=[]\n",
    "for direccion in df_accidentalidad[\"SITIO_EXACTO_ACCIDENTE_modificada\"].iloc[inicio_mes:final_mes]:\n",
    "    try:\n",
    "        lista_coordenadas_accidentes.append(geocoder.osm(direccion+\",Barranquilla,Colombia\").geojson['features'][0][\"geometry\"][\"coordinates\"])\n",
    "    except:\n",
    "        pass"
   ]
  },
  {
   "cell_type": "markdown",
   "id": "1c26c181",
   "metadata": {},
   "source": [
    "# Cambio las ubicaciones del orden de los elementos en la lista (estaban al revez la latitud y la longitud)"
   ]
  },
  {
   "cell_type": "code",
   "execution_count": null,
   "id": "a7fe4df4",
   "metadata": {},
   "outputs": [],
   "source": [
    "for i,j in enumerate(lista_coordenadas_accidentes):\n",
    "    lista_coordenadas_accidentes[i]=[j[1],j[0]]"
   ]
  },
  {
   "cell_type": "markdown",
   "id": "4e407152",
   "metadata": {},
   "source": [
    "# Listas de ubicación (Latitud y Longitud)"
   ]
  },
  {
   "cell_type": "code",
   "execution_count": null,
   "id": "79bb8dac",
   "metadata": {},
   "outputs": [],
   "source": [
    "LATITUD_fotodeteccion=df_fotodeteccion[\"LATITUD\"]\n",
    "LONGITUD_fotodeteccion=df_fotodeteccion[\"LONGITUD\"]\n",
    "LATITUD_semaforizacion=df_semaforizacion[\"LATITUD\"]\n",
    "LONGITUD_semaforizacion=df_semaforizacion[\"LONGITUD\"]"
   ]
  },
  {
   "cell_type": "code",
   "execution_count": null,
   "id": "11793667",
   "metadata": {},
   "outputs": [],
   "source": [
    "lista_coordenadas_fotodeteccion=[]\n",
    "for latitud_fotodeteccion,longitud_fotodeteccion in zip(LATITUD_fotodeteccion,LONGITUD_fotodeteccion):\n",
    "    lista_coordenadas_fotodeteccion.append([latitud_fotodeteccion,longitud_fotodeteccion])"
   ]
  },
  {
   "cell_type": "code",
   "execution_count": null,
   "id": "dd9e3783",
   "metadata": {},
   "outputs": [],
   "source": [
    "lista_coordenadas_semaforizacion=[]\n",
    "for latitud_semaforizacion,longitud_semaforizacion in zip(LATITUD_semaforizacion,LONGITUD_semaforizacion):\n",
    "    lista_coordenadas_semaforizacion.append([latitud_semaforizacion,longitud_semaforizacion])"
   ]
  },
  {
   "cell_type": "markdown",
   "id": "e72801d5",
   "metadata": {},
   "source": [
    "# Defino una figura por cada mapa"
   ]
  },
  {
   "cell_type": "code",
   "execution_count": null,
   "id": "a759445a",
   "metadata": {},
   "outputs": [],
   "source": [
    "fig_1=Figure(width=500,height=300)\n",
    "fig_2=Figure(width=500,height=300)\n",
    "fig_3=Figure(width=500,height=300)"
   ]
  },
  {
   "cell_type": "markdown",
   "id": "a2639432",
   "metadata": {},
   "source": [
    "# Distribucion de accidentes por mes"
   ]
  },
  {
   "cell_type": "code",
   "execution_count": null,
   "id": "a6e1c0f1",
   "metadata": {},
   "outputs": [],
   "source": [
    "m_1=folium.Map(location=[10.9878, -74.7889],zoom_start=11,min_zoom=8,max_zoom=14)\n",
    "\n",
    "for index in range(len(lista_coordenadas_accidentes)):\n",
    "    folium.Circle(location=lista_coordenadas_accidentes[index],\n",
    "                  radius=70,\n",
    "                  color='black').add_to(m_1)\n",
    "\n",
    "fig_1.add_child(m_1)\n",
    "m_1"
   ]
  },
  {
   "cell_type": "markdown",
   "id": "275e9621",
   "metadata": {},
   "source": [
    "# Distribucion semaforos en la ciudad"
   ]
  },
  {
   "cell_type": "code",
   "execution_count": null,
   "id": "8a168ebb",
   "metadata": {},
   "outputs": [],
   "source": [
    "m_2=folium.Map(location=[10.9878, -74.7889],zoom_start=11,min_zoom=8,max_zoom=14)\n",
    "\n",
    "for index in range(len(lista_coordenadas_semaforizacion)):\n",
    "    folium.Circle(location=lista_coordenadas_semaforizacion[index],\n",
    "                  radius=1,\n",
    "                  color='red').add_to(m_2)\n",
    "\n",
    "fig_2.add_child(m_2)\n",
    "m_2"
   ]
  },
  {
   "cell_type": "markdown",
   "id": "644055e7",
   "metadata": {},
   "source": [
    "# Distribución Fotodetectores en la Ciudad"
   ]
  },
  {
   "cell_type": "code",
   "execution_count": null,
   "id": "7771e7a4",
   "metadata": {},
   "outputs": [],
   "source": [
    "m_3=folium.Map(location=[10.9878, -74.7889],zoom_start=11,min_zoom=8,max_zoom=14)\n",
    "\n",
    "for index in range(len(lista_coordenadas_fotodeteccion)):\n",
    "    folium.Marker(location=lista_coordenadas_fotodeteccion[index],\n",
    "                  radius=10,\n",
    "                  color='black').add_to(m_3)\n",
    "\n",
    "fig_3.add_child(m_3)\n",
    "m_3"
   ]
  }
 ],
 "metadata": {
  "kernelspec": {
   "display_name": "Python 3",
   "language": "python",
   "name": "python3"
  },
  "language_info": {
   "codemirror_mode": {
    "name": "ipython",
    "version": 3
   },
   "file_extension": ".py",
   "mimetype": "text/x-python",
   "name": "python",
   "nbconvert_exporter": "python",
   "pygments_lexer": "ipython3",
   "version": "3.8.10"
  }
 },
 "nbformat": 4,
 "nbformat_minor": 5
}
